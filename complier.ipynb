{
 "cells": [
  {
   "cell_type": "markdown",
   "id": "7f779a20-ee9a-4ae9-8b9a-f08c9728abad",
   "metadata": {},
   "source": [
    "## cw. 테스트 코드 실행"
   ]
  },
  {
   "cell_type": "code",
   "execution_count": 13,
   "id": "034660fb-97c9-4a91-8e9c-cae387ce8310",
   "metadata": {},
   "outputs": [],
   "source": [
    "# %matplotlib inline\n",
    "\n",
    "# !python3 test.py --model 3 --checkpoints ./checkpoints/example"
   ]
  },
  {
   "cell_type": "markdown",
   "id": "184a1925-d051-467b-b61b-3104bc9661df",
   "metadata": {
    "tags": []
   },
   "source": [
    "## cw. mask 값이 1인 경우 255 곱해서 저장\n",
    "- folder to folder\n",
    "- 0 -> 255, 1 -> 0"
   ]
  },
  {
   "cell_type": "code",
   "execution_count": 67,
   "id": "ecac137c-280b-498d-a1c9-a44303f213d5",
   "metadata": {},
   "outputs": [],
   "source": [
    "# import cv2\n",
    "# import os\n",
    "# from tqdm import tqdm\n",
    "\n",
    "# iPATH = 'examples/masks_0/'\n",
    "# flist = os.listdir(iPATH)\n",
    "# flist = [i for i in flist if i.split('.')[-1] == 'png' ]\n",
    "\n",
    "# fPATH ='examples/masks/'\n",
    "# #os.mkdir(fPATH)\n",
    "\n",
    "# for i in tqdm(flist):\n",
    "#     img = cv2.imread(iPATH+i)\n",
    "    \n",
    "#     img[img == 0] = 255\n",
    "#     img[img == 1] = 0\n",
    "\n",
    "#     cv2.imwrite(fPATH + i,img)"
   ]
  },
  {
   "cell_type": "markdown",
   "id": "1fe011b3-a343-4162-a471-84c554d8fd73",
   "metadata": {},
   "source": [
    "## cw. image를 resizing\n",
    "- folder to folder\n",
    "- ((224, 224, 3) -> (256, 256, 3))"
   ]
  },
  {
   "cell_type": "code",
   "execution_count": 68,
   "id": "016c6549-73fe-4036-9265-5aff0756b16b",
   "metadata": {},
   "outputs": [],
   "source": [
    "# import cv2\n",
    "# import os\n",
    "# from tqdm import tqdm\n",
    "\n",
    "\n",
    "# iPATH = 'experiments/results_from_celebhq/result/'\n",
    "# flist = os.listdir(iPATH)\n",
    "# flist = [i for i in flist if i.split('.')[-1] == 'png' ]\n",
    "\n",
    "# fPATH ='experiments/results_from_celebhq/result_resized/'\n",
    "# # os.mkdir(fPATH)\n",
    "\n",
    "# for i in tqdm(flist):\n",
    "#     img = cv2.imread(iPATH+i)\n",
    "#     img = cv2.resize(img, (224, 224))\n",
    "\n",
    "#     cv2.imwrite(fPATH + i,img)"
   ]
  }
 ],
 "metadata": {
  "kernelspec": {
   "display_name": "Python 3 (ipykernel)",
   "language": "python",
   "name": "python3"
  },
  "language_info": {
   "codemirror_mode": {
    "name": "ipython",
    "version": 3
   },
   "file_extension": ".py",
   "mimetype": "text/x-python",
   "name": "python",
   "nbconvert_exporter": "python",
   "pygments_lexer": "ipython3",
   "version": "3.9.5"
  }
 },
 "nbformat": 4,
 "nbformat_minor": 5
}
