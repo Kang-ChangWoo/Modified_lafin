{
 "cells": [
  {
   "cell_type": "code",
   "execution_count": 13,
   "id": "034660fb-97c9-4a91-8e9c-cae387ce8310",
   "metadata": {},
   "outputs": [],
   "source": [
    "# %matplotlib inline\n",
    "\n",
    "# !python3 test.py --model 3 --checkpoints ./checkpoints/example"
   ]
  },
  {
   "cell_type": "code",
   "execution_count": 52,
   "id": "9c32fcc6-989f-48ff-a918-3b875c48b1a4",
   "metadata": {},
   "outputs": [
    {
     "data": {
      "text/plain": [
       "((224, 224, 3), (256, 256, 3))"
      ]
     },
     "execution_count": 52,
     "metadata": {},
     "output_type": "execute_result"
    }
   ],
   "source": []
  },
  {
   "cell_type": "markdown",
   "id": "184a1925-d051-467b-b61b-3104bc9661df",
   "metadata": {
    "tags": []
   },
   "source": [
    "## cw. mask 값이 1인 경우 255 곱해서 저장해준다."
   ]
  },
  {
   "cell_type": "code",
   "execution_count": 44,
   "id": "ecac137c-280b-498d-a1c9-a44303f213d5",
   "metadata": {},
   "outputs": [
    {
     "name": "stderr",
     "output_type": "stream",
     "text": [
      "100%|██████████████████████████████████████████████████████████████████████| 600/600 [00:06<00:00, 87.78it/s]\n"
     ]
    }
   ],
   "source": [
    "# import cv2\n",
    "# import os\n",
    "# from tqdm import tqdm\n",
    "\n",
    "# iPATH = 'examples/masks_0/'\n",
    "# flist = os.listdir(iPATH)\n",
    "# flist = [i for i in flist if i.split('.')[-1] == 'png' ]\n",
    "\n",
    "# fPATH ='examples/masks/'\n",
    "# #os.mkdir(fPATH)\n",
    "\n",
    "# for i in tqdm(flist):\n",
    "#     img = cv2.imread(iPATH+i)\n",
    "    \n",
    "#     img[img == 0] = 255\n",
    "#     img[img == 1] = 0\n",
    "\n",
    "#     cv2.imwrite(fPATH + i,img)"
   ]
  },
  {
   "cell_type": "markdown",
   "id": "1fe011b3-a343-4162-a471-84c554d8fd73",
   "metadata": {},
   "source": [
    "## cw. image를 resizing 해준다.\n",
    "((224, 224, 3) -> (256, 256, 3))"
   ]
  },
  {
   "cell_type": "code",
   "execution_count": 65,
   "id": "016c6549-73fe-4036-9265-5aff0756b16b",
   "metadata": {},
   "outputs": [
    {
     "name": "stderr",
     "output_type": "stream",
     "text": [
      "  0%|                                                                                | 0/600 [00:00<?, ?it/s][ WARN:0@10494.131] global /io/opencv/modules/imgcodecs/src/loadsave.cpp (239) findDecoder imread_('experiments/results_from_celebhq/result000.png'): can't open/read file: check file path/integrity\n",
      "  0%|                                                                                | 0/600 [00:00<?, ?it/s]\n"
     ]
    },
    {
     "ename": "error",
     "evalue": "OpenCV(4.5.5) /io/opencv/modules/imgproc/src/resize.cpp:4052: error: (-215:Assertion failed) !ssize.empty() in function 'resize'\n",
     "output_type": "error",
     "traceback": [
      "\u001b[0;31m---------------------------------------------------------------------------\u001b[0m",
      "\u001b[0;31merror\u001b[0m                                     Traceback (most recent call last)",
      "Input \u001b[0;32mIn [65]\u001b[0m, in \u001b[0;36m<cell line: 13>\u001b[0;34m()\u001b[0m\n\u001b[1;32m     13\u001b[0m \u001b[38;5;28;01mfor\u001b[39;00m i \u001b[38;5;129;01min\u001b[39;00m tqdm(flist):\n\u001b[1;32m     14\u001b[0m     img \u001b[38;5;241m=\u001b[39m cv2\u001b[38;5;241m.\u001b[39mimread(iPATH\u001b[38;5;241m+\u001b[39mi)\n\u001b[0;32m---> 15\u001b[0m     img \u001b[38;5;241m=\u001b[39m \u001b[43mcv2\u001b[49m\u001b[38;5;241;43m.\u001b[39;49m\u001b[43mresize\u001b[49m\u001b[43m(\u001b[49m\u001b[43mimg\u001b[49m\u001b[43m,\u001b[49m\u001b[43m \u001b[49m\u001b[43m(\u001b[49m\u001b[38;5;241;43m224\u001b[39;49m\u001b[43m,\u001b[49m\u001b[43m \u001b[49m\u001b[38;5;241;43m224\u001b[39;49m\u001b[43m)\u001b[49m\u001b[43m)\u001b[49m\n\u001b[1;32m     17\u001b[0m     cv2\u001b[38;5;241m.\u001b[39mimwrite(fPATH \u001b[38;5;241m+\u001b[39m i,img)\n",
      "\u001b[0;31merror\u001b[0m: OpenCV(4.5.5) /io/opencv/modules/imgproc/src/resize.cpp:4052: error: (-215:Assertion failed) !ssize.empty() in function 'resize'\n"
     ]
    }
   ],
   "source": [
    "import cv2\n",
    "import os\n",
    "from tqdm import tqdm\n",
    "\n",
    "\n",
    "iPATH = 'experiments/results_from_celebhq/result'\n",
    "flist = os.listdir(iPATH)\n",
    "flist = [i for i in flist if i.split('.')[-1] == 'png' ]\n",
    "\n",
    "fPATH ='experiments/results_from_celebhq/result_resized'\n",
    "# os.mkdir(fPATH)\n",
    "\n",
    "for i in tqdm(flist):\n",
    "    img = cv2.imread(iPATH+i)\n",
    "    img = cv2.resize(img, (224, 224))\n",
    "\n",
    "    cv2.imwrite(fPATH + i,img)"
   ]
  },
  {
   "cell_type": "code",
   "execution_count": null,
   "id": "a21dab2c-55e1-456a-82a2-34acabbf4253",
   "metadata": {},
   "outputs": [],
   "source": []
  }
 ],
 "metadata": {
  "kernelspec": {
   "display_name": "Python 3 (ipykernel)",
   "language": "python",
   "name": "python3"
  },
  "language_info": {
   "codemirror_mode": {
    "name": "ipython",
    "version": 3
   },
   "file_extension": ".py",
   "mimetype": "text/x-python",
   "name": "python",
   "nbconvert_exporter": "python",
   "pygments_lexer": "ipython3",
   "version": "3.9.5"
  }
 },
 "nbformat": 4,
 "nbformat_minor": 5
}
